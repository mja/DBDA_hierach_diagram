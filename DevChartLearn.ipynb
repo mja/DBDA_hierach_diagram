{
  "nbformat": 4,
  "nbformat_minor": 0,
  "metadata": {
    "colab": {
      "name": "DevChartLearn.ipynb",
      "provenance": [],
      "collapsed_sections": [],
      "authorship_tag": "ABX9TyPWGUfX6/h0UrGqHWUV3jfn",
      "include_colab_link": true
    },
    "kernelspec": {
      "name": "python3",
      "display_name": "Python 3"
    },
    "accelerator": "GPU"
  },
  "cells": [
    {
      "cell_type": "markdown",
      "metadata": {
        "id": "view-in-github",
        "colab_type": "text"
      },
      "source": [
        "<a href=\"https://colab.research.google.com/github/mja/DBDA_hierach_diagram/blob/master/DevChartLearn.ipynb\" target=\"_parent\"><img src=\"https://colab.research.google.com/assets/colab-badge.svg\" alt=\"Open In Colab\"/></a>"
      ]
    },
    {
      "cell_type": "markdown",
      "metadata": {
        "id": "6A8G7VC9Ph9z"
      },
      "source": [
        "# DevChartLearn\n",
        "\n",
        "Apply a deep learning network to development chart data.\n",
        "\n",
        "Notebook was run in [Colab](https://colab.research.google.com) so access data from Google Drive."
      ]
    },
    {
      "cell_type": "code",
      "metadata": {
        "id": "UjqTA24Afivo",
        "colab": {
          "base_uri": "https://localhost:8080/"
        },
        "outputId": "e0141f9b-375c-4ad9-8421-b02289efb51d"
      },
      "source": [
        "#hide\n",
        "!pip install -Uqq fastbook\n",
        "import fastbook\n",
        "fastbook.setup_book()"
      ],
      "execution_count": 1,
      "outputs": [
        {
          "output_type": "stream",
          "text": [
            "\u001b[?25l\r\u001b[K     |▌                               | 10kB 14.7MB/s eta 0:00:01\r\u001b[K     |█                               | 20kB 2.1MB/s eta 0:00:01\r\u001b[K     |█▍                              | 30kB 3.1MB/s eta 0:00:01\r\u001b[K     |█▉                              | 40kB 3.9MB/s eta 0:00:01\r\u001b[K     |██▎                             | 51kB 4.6MB/s eta 0:00:01\r\u001b[K     |██▊                             | 61kB 5.2MB/s eta 0:00:01\r\u001b[K     |███▏                            | 71kB 3.3MB/s eta 0:00:01\r\u001b[K     |███▋                            | 81kB 3.6MB/s eta 0:00:01\r\u001b[K     |████                            | 92kB 3.9MB/s eta 0:00:01\r\u001b[K     |████▌                           | 102kB 4.2MB/s eta 0:00:01\r\u001b[K     |█████                           | 112kB 4.2MB/s eta 0:00:01\r\u001b[K     |█████▌                          | 122kB 4.2MB/s eta 0:00:01\r\u001b[K     |██████                          | 133kB 4.2MB/s eta 0:00:01\r\u001b[K     |██████▍                         | 143kB 4.2MB/s eta 0:00:01\r\u001b[K     |██████▉                         | 153kB 4.2MB/s eta 0:00:01\r\u001b[K     |███████▎                        | 163kB 4.2MB/s eta 0:00:01\r\u001b[K     |███████▊                        | 174kB 4.2MB/s eta 0:00:01\r\u001b[K     |████████▏                       | 184kB 4.2MB/s eta 0:00:01\r\u001b[K     |████████▋                       | 194kB 4.2MB/s eta 0:00:01\r\u001b[K     |█████████                       | 204kB 4.2MB/s eta 0:00:01\r\u001b[K     |█████████▋                      | 215kB 4.2MB/s eta 0:00:01\r\u001b[K     |██████████                      | 225kB 4.2MB/s eta 0:00:01\r\u001b[K     |██████████▌                     | 235kB 4.2MB/s eta 0:00:01\r\u001b[K     |███████████                     | 245kB 4.2MB/s eta 0:00:01\r\u001b[K     |███████████▍                    | 256kB 4.2MB/s eta 0:00:01\r\u001b[K     |███████████▉                    | 266kB 4.2MB/s eta 0:00:01\r\u001b[K     |████████████▎                   | 276kB 4.2MB/s eta 0:00:01\r\u001b[K     |████████████▊                   | 286kB 4.2MB/s eta 0:00:01\r\u001b[K     |█████████████▏                  | 296kB 4.2MB/s eta 0:00:01\r\u001b[K     |█████████████▋                  | 307kB 4.2MB/s eta 0:00:01\r\u001b[K     |██████████████                  | 317kB 4.2MB/s eta 0:00:01\r\u001b[K     |██████████████▋                 | 327kB 4.2MB/s eta 0:00:01\r\u001b[K     |███████████████                 | 337kB 4.2MB/s eta 0:00:01\r\u001b[K     |███████████████▌                | 348kB 4.2MB/s eta 0:00:01\r\u001b[K     |████████████████                | 358kB 4.2MB/s eta 0:00:01\r\u001b[K     |████████████████▍               | 368kB 4.2MB/s eta 0:00:01\r\u001b[K     |████████████████▉               | 378kB 4.2MB/s eta 0:00:01\r\u001b[K     |█████████████████▎              | 389kB 4.2MB/s eta 0:00:01\r\u001b[K     |█████████████████▊              | 399kB 4.2MB/s eta 0:00:01\r\u001b[K     |██████████████████▏             | 409kB 4.2MB/s eta 0:00:01\r\u001b[K     |██████████████████▋             | 419kB 4.2MB/s eta 0:00:01\r\u001b[K     |███████████████████▏            | 430kB 4.2MB/s eta 0:00:01\r\u001b[K     |███████████████████▋            | 440kB 4.2MB/s eta 0:00:01\r\u001b[K     |████████████████████            | 450kB 4.2MB/s eta 0:00:01\r\u001b[K     |████████████████████▌           | 460kB 4.2MB/s eta 0:00:01\r\u001b[K     |█████████████████████           | 471kB 4.2MB/s eta 0:00:01\r\u001b[K     |█████████████████████▍          | 481kB 4.2MB/s eta 0:00:01\r\u001b[K     |█████████████████████▉          | 491kB 4.2MB/s eta 0:00:01\r\u001b[K     |██████████████████████▎         | 501kB 4.2MB/s eta 0:00:01\r\u001b[K     |██████████████████████▊         | 512kB 4.2MB/s eta 0:00:01\r\u001b[K     |███████████████████████▏        | 522kB 4.2MB/s eta 0:00:01\r\u001b[K     |███████████████████████▋        | 532kB 4.2MB/s eta 0:00:01\r\u001b[K     |████████████████████████▏       | 542kB 4.2MB/s eta 0:00:01\r\u001b[K     |████████████████████████▋       | 552kB 4.2MB/s eta 0:00:01\r\u001b[K     |█████████████████████████       | 563kB 4.2MB/s eta 0:00:01\r\u001b[K     |█████████████████████████▌      | 573kB 4.2MB/s eta 0:00:01\r\u001b[K     |██████████████████████████      | 583kB 4.2MB/s eta 0:00:01\r\u001b[K     |██████████████████████████▍     | 593kB 4.2MB/s eta 0:00:01\r\u001b[K     |██████████████████████████▉     | 604kB 4.2MB/s eta 0:00:01\r\u001b[K     |███████████████████████████▎    | 614kB 4.2MB/s eta 0:00:01\r\u001b[K     |███████████████████████████▊    | 624kB 4.2MB/s eta 0:00:01\r\u001b[K     |████████████████████████████▏   | 634kB 4.2MB/s eta 0:00:01\r\u001b[K     |████████████████████████████▊   | 645kB 4.2MB/s eta 0:00:01\r\u001b[K     |█████████████████████████████▏  | 655kB 4.2MB/s eta 0:00:01\r\u001b[K     |█████████████████████████████▋  | 665kB 4.2MB/s eta 0:00:01\r\u001b[K     |██████████████████████████████  | 675kB 4.2MB/s eta 0:00:01\r\u001b[K     |██████████████████████████████▌ | 686kB 4.2MB/s eta 0:00:01\r\u001b[K     |███████████████████████████████ | 696kB 4.2MB/s eta 0:00:01\r\u001b[K     |███████████████████████████████▍| 706kB 4.2MB/s eta 0:00:01\r\u001b[K     |███████████████████████████████▉| 716kB 4.2MB/s eta 0:00:01\r\u001b[K     |████████████████████████████████| 727kB 4.2MB/s \n",
            "\u001b[K     |████████████████████████████████| 194kB 55.6MB/s \n",
            "\u001b[K     |████████████████████████████████| 1.2MB 33.7MB/s \n",
            "\u001b[K     |████████████████████████████████| 51kB 7.7MB/s \n",
            "\u001b[K     |████████████████████████████████| 776.8MB 23kB/s \n",
            "\u001b[K     |████████████████████████████████| 12.8MB 45.9MB/s \n",
            "\u001b[K     |████████████████████████████████| 61kB 8.9MB/s \n",
            "\u001b[K     |████████████████████████████████| 51kB 7.9MB/s \n",
            "\u001b[31mERROR: torchtext 0.9.0 has requirement torch==1.8.0, but you'll have torch 1.7.1 which is incompatible.\u001b[0m\n",
            "\u001b[?25hMounted at /content/gdrive\n"
          ],
          "name": "stdout"
        }
      ]
    },
    {
      "cell_type": "code",
      "metadata": {
        "id": "jdl6xELxIpp0"
      },
      "source": [
        "from google.colab import drive\n",
        "from google.colab import auth\n",
        "auth.authenticate_user()\n",
        "\n",
        "import gspread\n",
        "from oauth2client.client import GoogleCredentials"
      ],
      "execution_count": 2,
      "outputs": []
    },
    {
      "cell_type": "code",
      "metadata": {
        "id": "Q9nBqrq3Njdf"
      },
      "source": [
        "gc = gspread.authorize(GoogleCredentials.get_application_default())"
      ],
      "execution_count": 3,
      "outputs": []
    },
    {
      "cell_type": "code",
      "metadata": {
        "id": "pUzOdbwuJVnR"
      },
      "source": [
        "from fastbook import *\n",
        "from fastai.tabular.all import *\n",
        "\n",
        "import matplotlib.pyplot as plt\n",
        "import numpy as np\n",
        "import pandas as pd"
      ],
      "execution_count": 4,
      "outputs": []
    },
    {
      "cell_type": "markdown",
      "metadata": {
        "id": "MybWVoVbJnac"
      },
      "source": [
        "# The data"
      ]
    },
    {
      "cell_type": "markdown",
      "metadata": {
        "id": "IM11xZzHP379"
      },
      "source": [
        "The `devchart.csv` file was uploaded to Google Drive, which automatically converts it to a sheet (`devchart.gsheet`). Use credentials client to open it. Extract the first row and turn it into column headers for a dataframe. Convert numeric values to float and display the columns that will be input into the model"
      ]
    },
    {
      "cell_type": "code",
      "metadata": {
        "id": "8ZHIaNprKxfm",
        "colab": {
          "base_uri": "https://localhost:8080/",
          "height": 419
        },
        "outputId": "e1011d45-7ff3-44f7-be86-837bbf075985"
      },
      "source": [
        "devchart_worksheet = gc.open('devchart').sheet1\n",
        "devchart_rows = devchart_worksheet.get_all_values()\n",
        "devchart_header = devchart_rows[0]\n",
        "devchart_data = devchart_rows[1:len(devchart_rows)]\n",
        "devchart = pd.DataFrame.from_records(devchart_data, columns=devchart_header)\n",
        "\n",
        "devchart = devchart.astype({\"DilutionRatio\":float, \"TimeValue\": float, \"TempC\": float, \"EI\": float})\n",
        "\n",
        "# split film name into brand and emulsion\n",
        "film_strsplits = devchart['Film'].str.split()\n",
        "devchart['Brand'] = [film[0] for film in film_strsplits]\n",
        "devchart['Emulsion'] = [' '.join(film[1:len(film)]) for film in film_strsplits]\n",
        "\n",
        "devchart[['Brand', 'Emulsion', 'Developer', 'DilutionRatio', 'Format', 'EI', 'TempC', 'TimeValue']]"
      ],
      "execution_count": 20,
      "outputs": [
        {
          "output_type": "execute_result",
          "data": {
            "text/html": [
              "<div>\n",
              "<style scoped>\n",
              "    .dataframe tbody tr th:only-of-type {\n",
              "        vertical-align: middle;\n",
              "    }\n",
              "\n",
              "    .dataframe tbody tr th {\n",
              "        vertical-align: top;\n",
              "    }\n",
              "\n",
              "    .dataframe thead th {\n",
              "        text-align: right;\n",
              "    }\n",
              "</style>\n",
              "<table border=\"1\" class=\"dataframe\">\n",
              "  <thead>\n",
              "    <tr style=\"text-align: right;\">\n",
              "      <th></th>\n",
              "      <th>Brand</th>\n",
              "      <th>Emulsion</th>\n",
              "      <th>Developer</th>\n",
              "      <th>DilutionRatio</th>\n",
              "      <th>Format</th>\n",
              "      <th>EI</th>\n",
              "      <th>TempC</th>\n",
              "      <th>TimeValue</th>\n",
              "    </tr>\n",
              "  </thead>\n",
              "  <tbody>\n",
              "    <tr>\n",
              "      <th>0</th>\n",
              "      <td>Adox</td>\n",
              "      <td>CHM 125</td>\n",
              "      <td>510-Pyro</td>\n",
              "      <td>100.0</td>\n",
              "      <td>35mm</td>\n",
              "      <td>125.0</td>\n",
              "      <td>21.0</td>\n",
              "      <td>7.0</td>\n",
              "    </tr>\n",
              "    <tr>\n",
              "      <th>1</th>\n",
              "      <td>Adox</td>\n",
              "      <td>CHM 125</td>\n",
              "      <td>510-Pyro</td>\n",
              "      <td>500.0</td>\n",
              "      <td>35mm</td>\n",
              "      <td>125.0</td>\n",
              "      <td>21.0</td>\n",
              "      <td>50.0</td>\n",
              "    </tr>\n",
              "    <tr>\n",
              "      <th>2</th>\n",
              "      <td>Adox</td>\n",
              "      <td>CHM 125</td>\n",
              "      <td>777</td>\n",
              "      <td>0.0</td>\n",
              "      <td>35mm</td>\n",
              "      <td>100.0</td>\n",
              "      <td>24.0</td>\n",
              "      <td>10.0</td>\n",
              "    </tr>\n",
              "    <tr>\n",
              "      <th>3</th>\n",
              "      <td>Adox</td>\n",
              "      <td>CHM 125</td>\n",
              "      <td>ACU-1</td>\n",
              "      <td>10.0</td>\n",
              "      <td>35mm</td>\n",
              "      <td>100.0</td>\n",
              "      <td>21.0</td>\n",
              "      <td>9.0</td>\n",
              "    </tr>\n",
              "    <tr>\n",
              "      <th>4</th>\n",
              "      <td>Adox</td>\n",
              "      <td>CHM 125</td>\n",
              "      <td>Acufine</td>\n",
              "      <td>0.0</td>\n",
              "      <td>35mm</td>\n",
              "      <td>125.0</td>\n",
              "      <td>20.0</td>\n",
              "      <td>4.0</td>\n",
              "    </tr>\n",
              "    <tr>\n",
              "      <th>...</th>\n",
              "      <td>...</td>\n",
              "      <td>...</td>\n",
              "      <td>...</td>\n",
              "      <td>...</td>\n",
              "      <td>...</td>\n",
              "      <td>...</td>\n",
              "      <td>...</td>\n",
              "      <td>...</td>\n",
              "    </tr>\n",
              "    <tr>\n",
              "      <th>21490</th>\n",
              "      <td>Shanghai</td>\n",
              "      <td>GP3 Pan 100</td>\n",
              "      <td>ID-11</td>\n",
              "      <td>0.0</td>\n",
              "      <td>Sheet</td>\n",
              "      <td>100.0</td>\n",
              "      <td>20.0</td>\n",
              "      <td>10.0</td>\n",
              "    </tr>\n",
              "    <tr>\n",
              "      <th>21491</th>\n",
              "      <td>Shanghai</td>\n",
              "      <td>GP3 Pan 400</td>\n",
              "      <td>D-76</td>\n",
              "      <td>1.0</td>\n",
              "      <td>Sheet</td>\n",
              "      <td>400.0</td>\n",
              "      <td>20.0</td>\n",
              "      <td>24.0</td>\n",
              "    </tr>\n",
              "    <tr>\n",
              "      <th>21492</th>\n",
              "      <td>Shanghai</td>\n",
              "      <td>GP3 Pan 400</td>\n",
              "      <td>ID-11</td>\n",
              "      <td>1.0</td>\n",
              "      <td>Sheet</td>\n",
              "      <td>400.0</td>\n",
              "      <td>20.0</td>\n",
              "      <td>24.0</td>\n",
              "    </tr>\n",
              "    <tr>\n",
              "      <th>21493</th>\n",
              "      <td>Ilford</td>\n",
              "      <td>FP4+</td>\n",
              "      <td>777</td>\n",
              "      <td>0.0</td>\n",
              "      <td>Sheet</td>\n",
              "      <td>100.0</td>\n",
              "      <td>24.0</td>\n",
              "      <td>14.0</td>\n",
              "    </tr>\n",
              "    <tr>\n",
              "      <th>21494</th>\n",
              "      <td>Ilford</td>\n",
              "      <td>HP5+</td>\n",
              "      <td>777</td>\n",
              "      <td>0.0</td>\n",
              "      <td>Sheet</td>\n",
              "      <td>400.0</td>\n",
              "      <td>24.0</td>\n",
              "      <td>15.0</td>\n",
              "    </tr>\n",
              "  </tbody>\n",
              "</table>\n",
              "<p>21495 rows × 8 columns</p>\n",
              "</div>"
            ],
            "text/plain": [
              "          Brand     Emulsion Developer  DilutionRatio Format     EI  TempC  \\\n",
              "0          Adox      CHM 125  510-Pyro          100.0   35mm  125.0   21.0   \n",
              "1          Adox      CHM 125  510-Pyro          500.0   35mm  125.0   21.0   \n",
              "2          Adox      CHM 125       777            0.0   35mm  100.0   24.0   \n",
              "3          Adox      CHM 125     ACU-1           10.0   35mm  100.0   21.0   \n",
              "4          Adox      CHM 125   Acufine            0.0   35mm  125.0   20.0   \n",
              "...         ...          ...       ...            ...    ...    ...    ...   \n",
              "21490  Shanghai  GP3 Pan 100     ID-11            0.0  Sheet  100.0   20.0   \n",
              "21491  Shanghai  GP3 Pan 400      D-76            1.0  Sheet  400.0   20.0   \n",
              "21492  Shanghai  GP3 Pan 400     ID-11            1.0  Sheet  400.0   20.0   \n",
              "21493    Ilford         FP4+       777            0.0  Sheet  100.0   24.0   \n",
              "21494    Ilford         HP5+       777            0.0  Sheet  400.0   24.0   \n",
              "\n",
              "       TimeValue  \n",
              "0            7.0  \n",
              "1           50.0  \n",
              "2           10.0  \n",
              "3            9.0  \n",
              "4            4.0  \n",
              "...          ...  \n",
              "21490       10.0  \n",
              "21491       24.0  \n",
              "21492       24.0  \n",
              "21493       14.0  \n",
              "21494       15.0  \n",
              "\n",
              "[21495 rows x 8 columns]"
            ]
          },
          "metadata": {
            "tags": []
          },
          "execution_count": 20
        }
      ]
    },
    {
      "cell_type": "markdown",
      "metadata": {
        "id": "wMHi1Ui2Js8d"
      },
      "source": [
        "Examine the distribution of development times"
      ]
    },
    {
      "cell_type": "code",
      "metadata": {
        "colab": {
          "base_uri": "https://localhost:8080/",
          "height": 265
        },
        "id": "afi53aanJwck",
        "outputId": "0e3517a8-df58-4ced-e059-48215bb62deb"
      },
      "source": [
        "plt.hist(devchart['TimeValue'], bins=30)\n",
        "plt.show()"
      ],
      "execution_count": null,
      "outputs": [
        {
          "output_type": "display_data",
          "data": {
            "image/png": "[encoded data removed]",
            "text/plain": [
              "<Figure size 432x288 with 1 Axes>"
            ]
          },
          "metadata": {
            "tags": [],
            "needs_background": "light"
          }
        }
      ]
    },
    {
      "cell_type": "code",
      "metadata": {
        "colab": {
          "base_uri": "https://localhost:8080/",
          "height": 265
        },
        "id": "QhRtIsUHhD9J",
        "outputId": "9b14936f-2c0a-4900-cb02-782b0a6e2f37"
      },
      "source": [
        "pa = plt.hist(devchart[devchart['TimeValue'] <= 60]['TimeValue'], bins=30)"
      ],
      "execution_count": 57,
      "outputs": [
        {
          "output_type": "display_data",
          "data": {
            "image/png": "[encoded data removed]",
            "text/plain": [
              "<Figure size 432x288 with 1 Axes>"
            ]
          },
          "metadata": {
            "tags": [],
            "needs_background": "light"
          }
        }
      ]
    },
    {
      "cell_type": "markdown",
      "metadata": {
        "id": "xramd6ZeiDqT"
      },
      "source": [
        "Focus on development times of 30 minutes or less"
      ]
    },
    {
      "cell_type": "code",
      "metadata": {
        "id": "Up80hJqeiCt3"
      },
      "source": [
        "devchart60 = devchart[devchart['TimeValue'] <= 30]"
      ],
      "execution_count": 67,
      "outputs": []
    },
    {
      "cell_type": "markdown",
      "metadata": {
        "id": "XSqD7x88K0c1"
      },
      "source": [
        "# Model and Learner\n",
        "\n",
        "We'll start with a random split into training and validation sets that doesn't factor in the structure of the data or the kind of information that we want to predict. Choose 20% of the development times to be in the validation set."
      ]
    },
    {
      "cell_type": "code",
      "metadata": {
        "id": "IQBSzONmPcWM"
      },
      "source": [
        "naive_splitter = RandomSplitter(valid_pct=0.2)\n",
        "naive_splits = naive_splitter(range(devchart30.shape[0]))"
      ],
      "execution_count": 68,
      "outputs": []
    },
    {
      "cell_type": "markdown",
      "metadata": {
        "id": "o5JCtHPISxWW"
      },
      "source": [
        "Set up the neural network with Film, Developer, and Format as categorical predictors; and Dilution (as a ratio) and Exposure Index as continous predictors. Development time (in minutes) is the continous outcome. The architecture will automatically create embeddings for the categorical predictors. Then set up the batch size. "
      ]
    },
    {
      "cell_type": "code",
      "metadata": {
        "id": "EDW9q-QYOS71"
      },
      "source": [
        "devchart_nn = TabularPandas(devchart30, procs=[Categorify, Normalize],\n",
        "                            cat_names=['Brand', 'Film', 'Developer', 'Format'],\n",
        "                            cont_names=['DilutionRatio', 'EI'],\n",
        "                            y_names='TimeValue', splits=naive_splits)\n",
        "devchart_dls = devchart_nn.dataloaders(1024)"
      ],
      "execution_count": 117,
      "outputs": []
    },
    {
      "cell_type": "markdown",
      "metadata": {
        "id": "Y0XD0MEtTVob"
      },
      "source": [
        "Find the minimum and maximum development times."
      ]
    },
    {
      "cell_type": "code",
      "metadata": {
        "colab": {
          "base_uri": "https://localhost:8080/"
        },
        "id": "20m7sw_OPLPP",
        "outputId": "d80e9d0c-ff3c-4c5b-8231-6c0490155110"
      },
      "source": [
        "timevalue_y = devchart_nn.train.y\n",
        "min(timevalue_y), max(timevalue_y)"
      ],
      "execution_count": 118,
      "outputs": [
        {
          "output_type": "execute_result",
          "data": {
            "text/plain": [
              "(1.0, 30.0)"
            ]
          },
          "metadata": {
            "tags": []
          },
          "execution_count": 118
        }
      ]
    },
    {
      "cell_type": "markdown",
      "metadata": {
        "id": "B7oBInwwTZQr"
      },
      "source": [
        "Set up the learner with a mean squared error loss function and search for the best learning rates."
      ]
    },
    {
      "cell_type": "code",
      "metadata": {
        "id": "UZkCbkUSPO05"
      },
      "source": [
        "devchart_learn = tabular_learner(devchart_dls, y_range=(1,35), layers=[500,250], n_out=1, loss_func=F.mse_loss)"
      ],
      "execution_count": 119,
      "outputs": []
    },
    {
      "cell_type": "code",
      "metadata": {
        "colab": {
          "base_uri": "https://localhost:8080/",
          "height": 301
        },
        "id": "jodn_HvIPTa7",
        "outputId": "f94f1dbb-3da7-4ef3-eb5d-4717b081cc50"
      },
      "source": [
        "devchart_learn.lr_find()"
      ],
      "execution_count": 120,
      "outputs": [
        {
          "output_type": "display_data",
          "data": {
            "text/html": [
              ""
            ],
            "text/plain": [
              "<IPython.core.display.HTML object>"
            ]
          },
          "metadata": {
            "tags": []
          }
        },
        {
          "output_type": "execute_result",
          "data": {
            "text/plain": [
              "SuggestedLRs(lr_min=0.00831763744354248, lr_steep=0.0005754399462603033)"
            ]
          },
          "metadata": {
            "tags": []
          },
          "execution_count": 120
        },
        {
          "output_type": "display_data",
          "data": {
            "image/png": "[encoded data removed]",
            "text/plain": [
              "<Figure size 432x288 with 1 Axes>"
            ]
          },
          "metadata": {
            "tags": [],
            "needs_background": "light"
          }
        }
      ]
    },
    {
      "cell_type": "markdown",
      "metadata": {
        "id": "VzNDeN9QTkpb"
      },
      "source": [
        "Train the learner."
      ]
    },
    {
      "cell_type": "code",
      "metadata": {
        "colab": {
          "base_uri": "https://localhost:8080/",
          "height": 514
        },
        "id": "6ueNWj30TmH9",
        "outputId": "9979cb95-8387-4566-9f3a-2c7e07d8f86f"
      },
      "source": [
        "devchart_learn.fit_one_cycle(15, 5e-2)"
      ],
      "execution_count": 121,
      "outputs": [
        {
          "output_type": "display_data",
          "data": {
            "text/html": [
              "<table border=\"1\" class=\"dataframe\">\n",
              "  <thead>\n",
              "    <tr style=\"text-align: left;\">\n",
              "      <th>epoch</th>\n",
              "      <th>train_loss</th>\n",
              "      <th>valid_loss</th>\n",
              "      <th>time</th>\n",
              "    </tr>\n",
              "  </thead>\n",
              "  <tbody>\n",
              "    <tr>\n",
              "      <td>0</td>\n",
              "      <td>26.514719</td>\n",
              "      <td>23.062265</td>\n",
              "      <td>00:00</td>\n",
              "    </tr>\n",
              "    <tr>\n",
              "      <td>1</td>\n",
              "      <td>20.512457</td>\n",
              "      <td>18.497416</td>\n",
              "      <td>00:00</td>\n",
              "    </tr>\n",
              "    <tr>\n",
              "      <td>2</td>\n",
              "      <td>17.405769</td>\n",
              "      <td>13.938465</td>\n",
              "      <td>00:00</td>\n",
              "    </tr>\n",
              "    <tr>\n",
              "      <td>3</td>\n",
              "      <td>17.250811</td>\n",
              "      <td>14.827473</td>\n",
              "      <td>00:00</td>\n",
              "    </tr>\n",
              "    <tr>\n",
              "      <td>4</td>\n",
              "      <td>15.193908</td>\n",
              "      <td>12.134323</td>\n",
              "      <td>00:00</td>\n",
              "    </tr>\n",
              "    <tr>\n",
              "      <td>5</td>\n",
              "      <td>13.638527</td>\n",
              "      <td>10.650465</td>\n",
              "      <td>00:00</td>\n",
              "    </tr>\n",
              "    <tr>\n",
              "      <td>6</td>\n",
              "      <td>12.306991</td>\n",
              "      <td>10.455591</td>\n",
              "      <td>00:00</td>\n",
              "    </tr>\n",
              "    <tr>\n",
              "      <td>7</td>\n",
              "      <td>11.246805</td>\n",
              "      <td>9.502818</td>\n",
              "      <td>00:00</td>\n",
              "    </tr>\n",
              "    <tr>\n",
              "      <td>8</td>\n",
              "      <td>10.313092</td>\n",
              "      <td>10.106959</td>\n",
              "      <td>00:00</td>\n",
              "    </tr>\n",
              "    <tr>\n",
              "      <td>9</td>\n",
              "      <td>9.746531</td>\n",
              "      <td>9.114117</td>\n",
              "      <td>00:00</td>\n",
              "    </tr>\n",
              "    <tr>\n",
              "      <td>10</td>\n",
              "      <td>9.070909</td>\n",
              "      <td>8.892123</td>\n",
              "      <td>00:00</td>\n",
              "    </tr>\n",
              "    <tr>\n",
              "      <td>11</td>\n",
              "      <td>8.236005</td>\n",
              "      <td>7.827480</td>\n",
              "      <td>00:00</td>\n",
              "    </tr>\n",
              "    <tr>\n",
              "      <td>12</td>\n",
              "      <td>7.434883</td>\n",
              "      <td>7.029778</td>\n",
              "      <td>00:00</td>\n",
              "    </tr>\n",
              "    <tr>\n",
              "      <td>13</td>\n",
              "      <td>6.652821</td>\n",
              "      <td>6.668009</td>\n",
              "      <td>00:00</td>\n",
              "    </tr>\n",
              "    <tr>\n",
              "      <td>14</td>\n",
              "      <td>6.021408</td>\n",
              "      <td>6.330402</td>\n",
              "      <td>00:00</td>\n",
              "    </tr>\n",
              "  </tbody>\n",
              "</table>"
            ],
            "text/plain": [
              "<IPython.core.display.HTML object>"
            ]
          },
          "metadata": {
            "tags": []
          }
        }
      ]
    },
    {
      "cell_type": "code",
      "metadata": {
        "colab": {
          "base_uri": "https://localhost:8080/",
          "height": 328
        },
        "id": "mjsKpfNldOD0",
        "outputId": "b496232e-e4e6-4e58-c212-9a28158853f3"
      },
      "source": [
        "devchart_learn.show_results()"
      ],
      "execution_count": 122,
      "outputs": [
        {
          "output_type": "display_data",
          "data": {
            "text/html": [
              ""
            ],
            "text/plain": [
              "<IPython.core.display.HTML object>"
            ]
          },
          "metadata": {
            "tags": []
          }
        },
        {
          "output_type": "display_data",
          "data": {
            "text/html": [
              "<table border=\"1\" class=\"dataframe\">\n",
              "  <thead>\n",
              "    <tr style=\"text-align: right;\">\n",
              "      <th></th>\n",
              "      <th>Brand</th>\n",
              "      <th>Film</th>\n",
              "      <th>Developer</th>\n",
              "      <th>Format</th>\n",
              "      <th>DilutionRatio</th>\n",
              "      <th>EI</th>\n",
              "      <th>TimeValue</th>\n",
              "      <th>TimeValue_pred</th>\n",
              "    </tr>\n",
              "  </thead>\n",
              "  <tbody>\n",
              "    <tr>\n",
              "      <th>0</th>\n",
              "      <td>28.0</td>\n",
              "      <td>98.0</td>\n",
              "      <td>144.0</td>\n",
              "      <td>2.0</td>\n",
              "      <td>0.270723</td>\n",
              "      <td>0.239143</td>\n",
              "      <td>7.0</td>\n",
              "      <td>7.447220</td>\n",
              "    </tr>\n",
              "    <tr>\n",
              "      <th>1</th>\n",
              "      <td>21.0</td>\n",
              "      <td>77.0</td>\n",
              "      <td>15.0</td>\n",
              "      <td>2.0</td>\n",
              "      <td>-0.516031</td>\n",
              "      <td>-0.380631</td>\n",
              "      <td>14.0</td>\n",
              "      <td>13.633178</td>\n",
              "    </tr>\n",
              "    <tr>\n",
              "      <th>2</th>\n",
              "      <td>21.0</td>\n",
              "      <td>78.0</td>\n",
              "      <td>156.0</td>\n",
              "      <td>3.0</td>\n",
              "      <td>0.074034</td>\n",
              "      <td>-0.339312</td>\n",
              "      <td>7.0</td>\n",
              "      <td>7.814776</td>\n",
              "    </tr>\n",
              "    <tr>\n",
              "      <th>3</th>\n",
              "      <td>1.0</td>\n",
              "      <td>12.0</td>\n",
              "      <td>25.0</td>\n",
              "      <td>2.0</td>\n",
              "      <td>-0.548813</td>\n",
              "      <td>-0.339312</td>\n",
              "      <td>8.0</td>\n",
              "      <td>10.929641</td>\n",
              "    </tr>\n",
              "    <tr>\n",
              "      <th>4</th>\n",
              "      <td>28.0</td>\n",
              "      <td>100.0</td>\n",
              "      <td>73.0</td>\n",
              "      <td>3.0</td>\n",
              "      <td>-0.253780</td>\n",
              "      <td>-0.318653</td>\n",
              "      <td>5.5</td>\n",
              "      <td>6.669664</td>\n",
              "    </tr>\n",
              "    <tr>\n",
              "      <th>5</th>\n",
              "      <td>34.0</td>\n",
              "      <td>133.0</td>\n",
              "      <td>73.0</td>\n",
              "      <td>3.0</td>\n",
              "      <td>0.074034</td>\n",
              "      <td>-0.091403</td>\n",
              "      <td>12.5</td>\n",
              "      <td>11.789387</td>\n",
              "    </tr>\n",
              "    <tr>\n",
              "      <th>6</th>\n",
              "      <td>21.0</td>\n",
              "      <td>78.0</td>\n",
              "      <td>144.0</td>\n",
              "      <td>3.0</td>\n",
              "      <td>0.270723</td>\n",
              "      <td>-0.256676</td>\n",
              "      <td>5.0</td>\n",
              "      <td>5.682025</td>\n",
              "    </tr>\n",
              "    <tr>\n",
              "      <th>7</th>\n",
              "      <td>48.0</td>\n",
              "      <td>189.0</td>\n",
              "      <td>172.0</td>\n",
              "      <td>1.0</td>\n",
              "      <td>-0.319343</td>\n",
              "      <td>0.239143</td>\n",
              "      <td>13.0</td>\n",
              "      <td>12.366547</td>\n",
              "    </tr>\n",
              "    <tr>\n",
              "      <th>8</th>\n",
              "      <td>28.0</td>\n",
              "      <td>106.0</td>\n",
              "      <td>158.0</td>\n",
              "      <td>1.0</td>\n",
              "      <td>0.401849</td>\n",
              "      <td>-0.256676</td>\n",
              "      <td>10.0</td>\n",
              "      <td>9.224107</td>\n",
              "    </tr>\n",
              "  </tbody>\n",
              "</table>"
            ],
            "text/plain": [
              "<IPython.core.display.HTML object>"
            ]
          },
          "metadata": {
            "tags": []
          }
        }
      ]
    },
    {
      "cell_type": "markdown",
      "metadata": {
        "id": "Fri2gI4vTvoP"
      },
      "source": [
        "Calculate the RMSE and plot observed versus predicted values in the validation set."
      ]
    },
    {
      "cell_type": "code",
      "metadata": {
        "colab": {
          "base_uri": "https://localhost:8080/",
          "height": 34
        },
        "id": "HWni8k7nTu_y",
        "outputId": "7b3f6f72-6715-40a0-ea2d-6cdcbcae19a7"
      },
      "source": [
        "def rmse(pred,y): return round(math.sqrt(((pred-y)**2).mean()), 6)\n",
        "preds,targs = devchart_learn.get_preds()\n",
        "rmse(preds,targs)"
      ],
      "execution_count": 123,
      "outputs": [
        {
          "output_type": "display_data",
          "data": {
            "text/html": [
              ""
            ],
            "text/plain": [
              "<IPython.core.display.HTML object>"
            ]
          },
          "metadata": {
            "tags": []
          }
        },
        {
          "output_type": "execute_result",
          "data": {
            "text/plain": [
              "2.516029"
            ]
          },
          "metadata": {
            "tags": []
          },
          "execution_count": 123
        }
      ]
    },
    {
      "cell_type": "code",
      "metadata": {
        "colab": {
          "base_uri": "https://localhost:8080/",
          "height": 282
        },
        "id": "tmd5837-T7af",
        "outputId": "783c850e-294c-449d-dd22-5076a120d3bd"
      },
      "source": [
        "plt.scatter(targs, preds)\n",
        "targs.shape"
      ],
      "execution_count": 124,
      "outputs": [
        {
          "output_type": "execute_result",
          "data": {
            "text/plain": [
              "torch.Size([4214, 1])"
            ]
          },
          "metadata": {
            "tags": []
          },
          "execution_count": 124
        },
        {
          "output_type": "display_data",
          "data": {
            "image/png": "[encoded data removed]",
            "text/plain": [
              "<Figure size 432x288 with 1 Axes>"
            ]
          },
          "metadata": {
            "tags": [],
            "needs_background": "light"
          }
        }
      ]
    },
    {
      "cell_type": "markdown",
      "metadata": {
        "id": "AZFRk3eTaEmV"
      },
      "source": [
        "Histogram of residuals"
      ]
    },
    {
      "cell_type": "code",
      "metadata": {
        "colab": {
          "base_uri": "https://localhost:8080/",
          "height": 265
        },
        "id": "kQ-PD0vjaIjC",
        "outputId": "b13a6e8c-6bdc-428b-f6e2-7a27a88ce004"
      },
      "source": [
        "pa = plt.hist(preds.numpy()[:,0] - targs.numpy()[:,0], bins=30)"
      ],
      "execution_count": 86,
      "outputs": [
        {
          "output_type": "display_data",
          "data": {
            "image/png": "[encoded data removed]",
            "text/plain": [
              "<Figure size 432x288 with 1 Axes>"
            ]
          },
          "metadata": {
            "tags": [],
            "needs_background": "light"
          }
        }
      ]
    },
    {
      "cell_type": "code",
      "metadata": {
        "colab": {
          "base_uri": "https://localhost:8080/"
        },
        "id": "QuhkeyTIbkod",
        "outputId": "a0c56519-21dd-4fd5-f1b1-7d5063c9d0c1"
      },
      "source": [
        "np.mean(preds.numpy()[:,0] - targs.numpy()[:,0])"
      ],
      "execution_count": 87,
      "outputs": [
        {
          "output_type": "execute_result",
          "data": {
            "text/plain": [
              "0.08938103"
            ]
          },
          "metadata": {
            "tags": []
          },
          "execution_count": 87
        }
      ]
    },
    {
      "cell_type": "markdown",
      "metadata": {
        "id": "hhzMrW44e-JT"
      },
      "source": [
        "Select the portion of the input dataframe for the validation set then add the predictions (`TimeValueHat`) as a new column"
      ]
    },
    {
      "cell_type": "code",
      "metadata": {
        "id": "QWxQDtvGb1X9"
      },
      "source": [
        "devchart_learn_valid = devchart30.iloc[naive_splits[1]].copy()\n",
        "devchart_learn_valid[['TimeValueHat']] = preds.numpy()[:,0]"
      ],
      "execution_count": 125,
      "outputs": []
    },
    {
      "cell_type": "markdown",
      "metadata": {
        "id": "aQGPQYsNlMss"
      },
      "source": [
        "Calculate RMSE for each film"
      ]
    },
    {
      "cell_type": "code",
      "metadata": {
        "id": "fYBTJ8DTfNJD"
      },
      "source": [
        "devchart_learn_valid[['RMSE']] = (devchart_learn_valid['TimeValue'] - devchart_learn_valid['TimeValueHat'])**2\n",
        "devchart_learn_valid_rmse = devchart_learn_valid.groupby('Film').agg({\"RMSE\": lambda x: math.sqrt(x.mean())})"
      ],
      "execution_count": 126,
      "outputs": []
    },
    {
      "cell_type": "code",
      "metadata": {
        "id": "VTqaNFY7lSIX"
      },
      "source": [
        ""
      ],
      "execution_count": 126,
      "outputs": []
    },
    {
      "cell_type": "markdown",
      "metadata": {
        "id": "Lma18nbKlVGE"
      },
      "source": [
        "Display films with the smallest prediction error. "
      ]
    },
    {
      "cell_type": "code",
      "metadata": {
        "colab": {
          "base_uri": "https://localhost:8080/",
          "height": 390
        },
        "id": "NhD3fbduju_r",
        "outputId": "3d4048a7-2516-412d-c58c-ab4fb91b88ee"
      },
      "source": [
        "devchart_learn_valid_rmse.sort_values(\"RMSE\").head(10)"
      ],
      "execution_count": 127,
      "outputs": [
        {
          "output_type": "execute_result",
          "data": {
            "text/html": [
              "<div>\n",
              "<style scoped>\n",
              "    .dataframe tbody tr th:only-of-type {\n",
              "        vertical-align: middle;\n",
              "    }\n",
              "\n",
              "    .dataframe tbody tr th {\n",
              "        vertical-align: top;\n",
              "    }\n",
              "\n",
              "    .dataframe thead th {\n",
              "        text-align: right;\n",
              "    }\n",
              "</style>\n",
              "<table border=\"1\" class=\"dataframe\">\n",
              "  <thead>\n",
              "    <tr style=\"text-align: right;\">\n",
              "      <th></th>\n",
              "      <th>RMSE</th>\n",
              "    </tr>\n",
              "    <tr>\n",
              "      <th>Film</th>\n",
              "      <th></th>\n",
              "    </tr>\n",
              "  </thead>\n",
              "  <tbody>\n",
              "    <tr>\n",
              "      <th>Tasma FN-64</th>\n",
              "      <td>0.005645</td>\n",
              "    </tr>\n",
              "    <tr>\n",
              "      <th>Orwo P400</th>\n",
              "      <td>0.134722</td>\n",
              "    </tr>\n",
              "    <tr>\n",
              "      <th>Svema FN32</th>\n",
              "      <td>0.156013</td>\n",
              "    </tr>\n",
              "    <tr>\n",
              "      <th>Fujifilm HR-S</th>\n",
              "      <td>0.185721</td>\n",
              "    </tr>\n",
              "    <tr>\n",
              "      <th>Bluefire Pan 400</th>\n",
              "      <td>0.290720</td>\n",
              "    </tr>\n",
              "    <tr>\n",
              "      <th>Tasma 100 Super</th>\n",
              "      <td>0.425637</td>\n",
              "    </tr>\n",
              "    <tr>\n",
              "      <th>Washi - W</th>\n",
              "      <td>0.428398</td>\n",
              "    </tr>\n",
              "    <tr>\n",
              "      <th>Kodak 2302</th>\n",
              "      <td>0.458323</td>\n",
              "    </tr>\n",
              "    <tr>\n",
              "      <th>Type-D 400</th>\n",
              "      <td>0.487698</td>\n",
              "    </tr>\n",
              "    <tr>\n",
              "      <th>Eastman 5201</th>\n",
              "      <td>0.578510</td>\n",
              "    </tr>\n",
              "  </tbody>\n",
              "</table>\n",
              "</div>"
            ],
            "text/plain": [
              "                      RMSE\n",
              "Film                      \n",
              "Tasma FN-64       0.005645\n",
              "Orwo P400         0.134722\n",
              "Svema FN32        0.156013\n",
              "Fujifilm HR-S     0.185721\n",
              "Bluefire Pan 400  0.290720\n",
              "Tasma 100 Super   0.425637\n",
              "Washi - W         0.428398\n",
              "Kodak 2302        0.458323\n",
              "Type-D 400        0.487698\n",
              "Eastman 5201      0.578510"
            ]
          },
          "metadata": {
            "tags": []
          },
          "execution_count": 127
        }
      ]
    },
    {
      "cell_type": "markdown",
      "metadata": {
        "id": "ZpLVLOvvlasD"
      },
      "source": [
        "Display films with the largest prediction error."
      ]
    },
    {
      "cell_type": "code",
      "metadata": {
        "colab": {
          "base_uri": "https://localhost:8080/",
          "height": 390
        },
        "id": "4J0Q_hldjxrc",
        "outputId": "e2d6a7e9-7d7b-4364-b724-5c50d950d7f7"
      },
      "source": [
        "devchart_learn_valid_rmse.sort_values(\"RMSE\").tail(10)"
      ],
      "execution_count": 128,
      "outputs": [
        {
          "output_type": "execute_result",
          "data": {
            "text/html": [
              "<div>\n",
              "<style scoped>\n",
              "    .dataframe tbody tr th:only-of-type {\n",
              "        vertical-align: middle;\n",
              "    }\n",
              "\n",
              "    .dataframe tbody tr th {\n",
              "        vertical-align: top;\n",
              "    }\n",
              "\n",
              "    .dataframe thead th {\n",
              "        text-align: right;\n",
              "    }\n",
              "</style>\n",
              "<table border=\"1\" class=\"dataframe\">\n",
              "  <thead>\n",
              "    <tr style=\"text-align: right;\">\n",
              "      <th></th>\n",
              "      <th>RMSE</th>\n",
              "    </tr>\n",
              "    <tr>\n",
              "      <th>Film</th>\n",
              "      <th></th>\n",
              "    </tr>\n",
              "  </thead>\n",
              "  <tbody>\n",
              "    <tr>\n",
              "      <th>Tasma KN-1</th>\n",
              "      <td>5.223356</td>\n",
              "    </tr>\n",
              "    <tr>\n",
              "      <th>Eastman Double-X (5222)</th>\n",
              "      <td>5.273176</td>\n",
              "    </tr>\n",
              "    <tr>\n",
              "      <th>FPP Derev Pan 200</th>\n",
              "      <td>5.764845</td>\n",
              "    </tr>\n",
              "    <tr>\n",
              "      <th>Owax Onidis 400</th>\n",
              "      <td>6.436473</td>\n",
              "    </tr>\n",
              "    <tr>\n",
              "      <th>Owax 50</th>\n",
              "      <td>6.808869</td>\n",
              "    </tr>\n",
              "    <tr>\n",
              "      <th>ReraPan 100</th>\n",
              "      <td>6.879382</td>\n",
              "    </tr>\n",
              "    <tr>\n",
              "      <th>Svema Foto 400</th>\n",
              "      <td>7.261467</td>\n",
              "    </tr>\n",
              "    <tr>\n",
              "      <th>Svema 200 Reporter</th>\n",
              "      <td>8.233350</td>\n",
              "    </tr>\n",
              "    <tr>\n",
              "      <th>Tasma Type-42L</th>\n",
              "      <td>9.552847</td>\n",
              "    </tr>\n",
              "    <tr>\n",
              "      <th>Atomic X</th>\n",
              "      <td>9.775110</td>\n",
              "    </tr>\n",
              "  </tbody>\n",
              "</table>\n",
              "</div>"
            ],
            "text/plain": [
              "                             RMSE\n",
              "Film                             \n",
              "Tasma KN-1               5.223356\n",
              "Eastman Double-X (5222)  5.273176\n",
              "FPP Derev Pan 200        5.764845\n",
              "Owax Onidis 400          6.436473\n",
              "Owax 50                  6.808869\n",
              "ReraPan 100              6.879382\n",
              "Svema Foto 400           7.261467\n",
              "Svema 200 Reporter       8.233350\n",
              "Tasma Type-42L           9.552847\n",
              "Atomic X                 9.775110"
            ]
          },
          "metadata": {
            "tags": []
          },
          "execution_count": 128
        }
      ]
    },
    {
      "cell_type": "markdown",
      "metadata": {
        "id": "-BxJvYjglg4B"
      },
      "source": [
        "Examine one particular film with a large prediction error. "
      ]
    },
    {
      "cell_type": "code",
      "metadata": {
        "colab": {
          "base_uri": "https://localhost:8080/",
          "height": 450
        },
        "id": "esXyasMJmB-A",
        "outputId": "0c6ac326-fc6b-4431-e7ea-1e5c962398d5"
      },
      "source": [
        "devchart_learn_valid_devel_rmse = devchart_learn_valid.groupby('Developer').agg({\"RMSE\": lambda x: math.sqrt(x.mean())})\n",
        "devchart_learn_valid_devel_rmse.sort_values(\"RMSE\")"
      ],
      "execution_count": 129,
      "outputs": [
        {
          "output_type": "execute_result",
          "data": {
            "text/html": [
              "<div>\n",
              "<style scoped>\n",
              "    .dataframe tbody tr th:only-of-type {\n",
              "        vertical-align: middle;\n",
              "    }\n",
              "\n",
              "    .dataframe tbody tr th {\n",
              "        vertical-align: top;\n",
              "    }\n",
              "\n",
              "    .dataframe thead th {\n",
              "        text-align: right;\n",
              "    }\n",
              "</style>\n",
              "<table border=\"1\" class=\"dataframe\">\n",
              "  <thead>\n",
              "    <tr style=\"text-align: right;\">\n",
              "      <th></th>\n",
              "      <th>RMSE</th>\n",
              "    </tr>\n",
              "    <tr>\n",
              "      <th>Developer</th>\n",
              "      <th></th>\n",
              "    </tr>\n",
              "  </thead>\n",
              "  <tbody>\n",
              "    <tr>\n",
              "      <th>Agfa 12</th>\n",
              "      <td>0.011612</td>\n",
              "    </tr>\n",
              "    <tr>\n",
              "      <th>Agfa Ansco 48M</th>\n",
              "      <td>0.055742</td>\n",
              "    </tr>\n",
              "    <tr>\n",
              "      <th>Melonal</th>\n",
              "      <td>0.166368</td>\n",
              "    </tr>\n",
              "    <tr>\n",
              "      <th>SP-Ultra 4LF</th>\n",
              "      <td>0.204429</td>\n",
              "    </tr>\n",
              "    <tr>\n",
              "      <th>Beutler-Pyro</th>\n",
              "      <td>0.221293</td>\n",
              "    </tr>\n",
              "    <tr>\n",
              "      <th>...</th>\n",
              "      <td>...</td>\n",
              "    </tr>\n",
              "    <tr>\n",
              "      <th>Caffenol</th>\n",
              "      <td>5.884339</td>\n",
              "    </tr>\n",
              "    <tr>\n",
              "      <th>Silberra RDN-LQ</th>\n",
              "      <td>6.087699</td>\n",
              "    </tr>\n",
              "    <tr>\n",
              "      <th>D-9</th>\n",
              "      <td>7.161875</td>\n",
              "    </tr>\n",
              "    <tr>\n",
              "      <th>D-96</th>\n",
              "      <td>7.229716</td>\n",
              "    </tr>\n",
              "    <tr>\n",
              "      <th>Ilford Multigrade</th>\n",
              "      <td>14.639162</td>\n",
              "    </tr>\n",
              "  </tbody>\n",
              "</table>\n",
              "<p>159 rows × 1 columns</p>\n",
              "</div>"
            ],
            "text/plain": [
              "                        RMSE\n",
              "Developer                   \n",
              "Agfa 12             0.011612\n",
              "Agfa Ansco 48M      0.055742\n",
              "Melonal             0.166368\n",
              "SP-Ultra 4LF        0.204429\n",
              "Beutler-Pyro        0.221293\n",
              "...                      ...\n",
              "Caffenol            5.884339\n",
              "Silberra RDN-LQ     6.087699\n",
              "D-9                 7.161875\n",
              "D-96                7.229716\n",
              "Ilford Multigrade  14.639162\n",
              "\n",
              "[159 rows x 1 columns]"
            ]
          },
          "metadata": {
            "tags": []
          },
          "execution_count": 129
        }
      ]
    },
    {
      "cell_type": "markdown",
      "metadata": {
        "id": "ywfNuL5V9WFY"
      },
      "source": [
        "### Embeddings\n",
        "\n",
        "Look at categorical embeddings to find the most similar brands, emulsions, and developers."
      ]
    },
    {
      "cell_type": "code",
      "metadata": {
        "colab": {
          "base_uri": "https://localhost:8080/"
        },
        "id": "MiqSnyUm9h5m",
        "outputId": "a2f6dd05-d96b-405a-fdde-ab766bdd0a97"
      },
      "source": [
        "devchart_emulsion_weights = devchart_learn.model.embeds[1].weight\n",
        "film_idx = devchart_dls.classes['Film'].o2i['Fuji Neopan 400']\n",
        "film_distances = nn.CosineSimilarity(dim=1)(devchart_emulsion_weights, devchart_emulsion_weights[film_idx][None])\n",
        "devchart_dls.classes['Film'][film_distances.argsort(descending=True)]"
      ],
      "execution_count": 144,
      "outputs": [
        {
          "output_type": "execute_result",
          "data": {
            "text/plain": [
              "(#248) ['Fuji Neopan 400','Legacy Pro 400','Orwo TF12d','Rollei Retro 400','Fuji AD-M','Svema Foto 200','Tasma A-2','Tasma Type-42L','BCG P-400','#na#'...]"
            ]
          },
          "metadata": {
            "tags": []
          },
          "execution_count": 144
        }
      ]
    },
    {
      "cell_type": "code",
      "metadata": {
        "colab": {
          "base_uri": "https://localhost:8080/"
        },
        "id": "EgwXnukTCb5z",
        "outputId": "8fd44101-e688-4756-fdb2-2d48cd47674a"
      },
      "source": [
        "devchart_brand_weights = devchart_learn.model.embeds[0].weight\n",
        "brand_idx = devchart_dls.classes['Brand'].o2i['Ilford']\n",
        "brand_distances = nn.CosineSimilarity(dim=1)(devchart_brand_weights, devchart_brand_weights[brand_idx][None])\n",
        "devchart_dls.classes['Brand'][brand_distances.argsort(descending=True)]"
      ],
      "execution_count": 157,
      "outputs": [
        {
          "output_type": "execute_result",
          "data": {
            "text/plain": [
              "(#58) ['Ilford','Ultrafine','Eastman','Kentmere','Oriental','Adox','Type-D','Ferrania','Fotopan','Bergger'...]"
            ]
          },
          "metadata": {
            "tags": []
          },
          "execution_count": 157
        }
      ]
    },
    {
      "cell_type": "code",
      "metadata": {
        "colab": {
          "base_uri": "https://localhost:8080/"
        },
        "id": "IVpYudekDRZ0",
        "outputId": "792862b4-26f3-4541-9720-33c47f17c54e"
      },
      "source": [
        "devchart_developer_weights = devchart_learn.model.embeds[2].weight\n",
        "developer_idx = devchart_dls.classes['Developer'].o2i['Microphen']\n",
        "developer_distances = nn.CosineSimilarity(dim=1)(devchart_developer_weights, devchart_developer_weights[developer_idx][None])\n",
        "devchart_dls.classes['Developer'][developer_distances.argsort(descending=True)]"
      ],
      "execution_count": 161,
      "outputs": [
        {
          "output_type": "execute_result",
          "data": {
            "text/plain": [
              "(#197) ['Microphen','TFX-2','Romek PQ7','Cawanol','C-41','ID-11','Agfa 14','Fomadon P','Caffenol','Ilfotec DD-X'...]"
            ]
          },
          "metadata": {
            "tags": []
          },
          "execution_count": 161
        }
      ]
    },
    {
      "cell_type": "markdown",
      "metadata": {
        "id": "Cmb0wxCAN1cJ"
      },
      "source": [
        "## A better validation set\n",
        "\n",
        "We can look at better splitting training and validation sets so that they contains combinations of film and developer as we don't want to have Film A and Developer B @ EI 100 and 400 in the training set but @ EI 200 in the validation set. Instead we want all EI observations for Film A and Developer B to be in either the training or the validation set, as the main goal is to be able to predict Film A with Developer X at all EIs rather than Film A with Developer B at an arbitrary EI.\n",
        "\n",
        "Get all unique Film/Developer combinations:"
      ]
    },
    {
      "cell_type": "code",
      "metadata": {
        "id": "_T1BYIWUMFDZ"
      },
      "source": [
        "films_developers = devchart30[['Film', 'Developer']].drop_duplicates()"
      ],
      "execution_count": 41,
      "outputs": []
    },
    {
      "cell_type": "markdown",
      "metadata": {
        "id": "DG_hXgu5MyEX"
      },
      "source": [
        "Split film/developer combos into the training or testing set"
      ]
    },
    {
      "cell_type": "code",
      "metadata": {
        "id": "rXLRV4AlNACT"
      },
      "source": [
        "# randomly choose training set. everything else is in the validation set\n",
        "training_filmdev = films_developers.sample(frac=0.8)\n",
        "training_filmdev['valid'] = 0\n",
        "devchart_tv = devchart30.merge(training_filmdev, on=['Film', 'Developer'], how='left')\n",
        "devchart_tv.loc[devchart_tv['valid'].isna(),'valid'] = 1\n",
        "is_train = devchart_tv.valid == 0\n",
        "train_idx = np.where(is_train)[0]\n",
        "valid_idx = np.where(~is_train)[0]\n",
        "\n",
        "filmdev_splits = (list(train_idx), list(valid_idx))"
      ],
      "execution_count": 42,
      "outputs": []
    },
    {
      "cell_type": "markdown",
      "metadata": {
        "id": "zSC1R65IP0ok"
      },
      "source": [
        "Set up a model to train development time.\n",
        "\n",
        "\n"
      ]
    },
    {
      "cell_type": "code",
      "metadata": {
        "id": "4uEdMlJyWAu3"
      },
      "source": [
        "devchart_fd_nn = TabularPandas(devchart30, procs=[Categorify, FillMissing, Normalize],\n",
        "                            cat_names=['Brand', 'Emulsion', 'Developer', 'Format'],\n",
        "                            cont_names=['DilutionRatio', 'EI'],\n",
        "                            y_names='TimeValue', splits=filmdev_splits)\n",
        "devchart_fd_dls = devchart_fd_nn.dataloaders(1024)"
      ],
      "execution_count": 44,
      "outputs": []
    },
    {
      "cell_type": "code",
      "metadata": {
        "id": "_kgS6wC5X85R"
      },
      "source": [
        "devchart_fd_learn = tabular_learner(devchart_fd_dls, y_range=(1,30), layers=[500,250], n_out=1, loss_func=F.mse_loss)"
      ],
      "execution_count": 45,
      "outputs": []
    },
    {
      "cell_type": "code",
      "metadata": {
        "colab": {
          "base_uri": "https://localhost:8080/",
          "height": 300
        },
        "id": "Fv4hwJWGYPD4",
        "outputId": "580d67fe-8d84-4ee9-816c-926994ef83ab"
      },
      "source": [
        "devchart_fd_learn.lr_find()\n"
      ],
      "execution_count": 46,
      "outputs": [
        {
          "output_type": "display_data",
          "data": {
            "text/html": [
              ""
            ],
            "text/plain": [
              "<IPython.core.display.HTML object>"
            ]
          },
          "metadata": {
            "tags": []
          }
        },
        {
          "output_type": "execute_result",
          "data": {
            "text/plain": [
              "SuggestedLRs(lr_min=0.02089296132326126, lr_steep=0.0005754399462603033)"
            ]
          },
          "metadata": {
            "tags": []
          },
          "execution_count": 46
        },
        {
          "output_type": "display_data",
          "data": {
            "image/png": "[encoded data removed]",
            "text/plain": [
              "<Figure size 432x288 with 1 Axes>"
            ]
          },
          "metadata": {
            "tags": [],
            "needs_background": "light"
          }
        }
      ]
    },
    {
      "cell_type": "code",
      "metadata": {
        "colab": {
          "base_uri": "https://localhost:8080/",
          "height": 514
        },
        "id": "75OJtvRlYamp",
        "outputId": "e3504e92-aebf-45b0-e0a4-2bba4cf0fc08"
      },
      "source": [
        "devchart_fd_learn.fit_one_cycle(15, 5e-3)"
      ],
      "execution_count": 47,
      "outputs": [
        {
          "output_type": "display_data",
          "data": {
            "text/html": [
              "<table border=\"1\" class=\"dataframe\">\n",
              "  <thead>\n",
              "    <tr style=\"text-align: left;\">\n",
              "      <th>epoch</th>\n",
              "      <th>train_loss</th>\n",
              "      <th>valid_loss</th>\n",
              "      <th>time</th>\n",
              "    </tr>\n",
              "  </thead>\n",
              "  <tbody>\n",
              "    <tr>\n",
              "      <td>0</td>\n",
              "      <td>33.535419</td>\n",
              "      <td>32.700397</td>\n",
              "      <td>00:00</td>\n",
              "    </tr>\n",
              "    <tr>\n",
              "      <td>1</td>\n",
              "      <td>23.737776</td>\n",
              "      <td>20.274548</td>\n",
              "      <td>00:00</td>\n",
              "    </tr>\n",
              "    <tr>\n",
              "      <td>2</td>\n",
              "      <td>18.857410</td>\n",
              "      <td>20.742397</td>\n",
              "      <td>00:00</td>\n",
              "    </tr>\n",
              "    <tr>\n",
              "      <td>3</td>\n",
              "      <td>16.208759</td>\n",
              "      <td>15.478574</td>\n",
              "      <td>00:00</td>\n",
              "    </tr>\n",
              "    <tr>\n",
              "      <td>4</td>\n",
              "      <td>14.255610</td>\n",
              "      <td>12.337979</td>\n",
              "      <td>00:00</td>\n",
              "    </tr>\n",
              "    <tr>\n",
              "      <td>5</td>\n",
              "      <td>12.686562</td>\n",
              "      <td>12.120344</td>\n",
              "      <td>00:00</td>\n",
              "    </tr>\n",
              "    <tr>\n",
              "      <td>6</td>\n",
              "      <td>11.420320</td>\n",
              "      <td>11.596225</td>\n",
              "      <td>00:00</td>\n",
              "    </tr>\n",
              "    <tr>\n",
              "      <td>7</td>\n",
              "      <td>10.488786</td>\n",
              "      <td>11.208121</td>\n",
              "      <td>00:00</td>\n",
              "    </tr>\n",
              "    <tr>\n",
              "      <td>8</td>\n",
              "      <td>9.636616</td>\n",
              "      <td>10.948586</td>\n",
              "      <td>00:00</td>\n",
              "    </tr>\n",
              "    <tr>\n",
              "      <td>9</td>\n",
              "      <td>8.897741</td>\n",
              "      <td>10.837920</td>\n",
              "      <td>00:00</td>\n",
              "    </tr>\n",
              "    <tr>\n",
              "      <td>10</td>\n",
              "      <td>8.331792</td>\n",
              "      <td>10.604225</td>\n",
              "      <td>00:00</td>\n",
              "    </tr>\n",
              "    <tr>\n",
              "      <td>11</td>\n",
              "      <td>7.797734</td>\n",
              "      <td>10.414063</td>\n",
              "      <td>00:00</td>\n",
              "    </tr>\n",
              "    <tr>\n",
              "      <td>12</td>\n",
              "      <td>7.332044</td>\n",
              "      <td>10.360077</td>\n",
              "      <td>00:00</td>\n",
              "    </tr>\n",
              "    <tr>\n",
              "      <td>13</td>\n",
              "      <td>6.981349</td>\n",
              "      <td>10.253949</td>\n",
              "      <td>00:00</td>\n",
              "    </tr>\n",
              "    <tr>\n",
              "      <td>14</td>\n",
              "      <td>6.662867</td>\n",
              "      <td>10.139541</td>\n",
              "      <td>00:00</td>\n",
              "    </tr>\n",
              "  </tbody>\n",
              "</table>"
            ],
            "text/plain": [
              "<IPython.core.display.HTML object>"
            ]
          },
          "metadata": {
            "tags": []
          }
        }
      ]
    },
    {
      "cell_type": "code",
      "metadata": {
        "colab": {
          "base_uri": "https://localhost:8080/",
          "height": 34
        },
        "id": "_WPCmb1tYmr8",
        "outputId": "2395d302-8909-497b-ca65-11e9a2d3373a"
      },
      "source": [
        "preds,targs = devchart_fd_learn.get_preds()\n",
        "rmse(preds,targs)"
      ],
      "execution_count": 48,
      "outputs": [
        {
          "output_type": "display_data",
          "data": {
            "text/html": [
              ""
            ],
            "text/plain": [
              "<IPython.core.display.HTML object>"
            ]
          },
          "metadata": {
            "tags": []
          }
        },
        {
          "output_type": "execute_result",
          "data": {
            "text/plain": [
              "3.184265"
            ]
          },
          "metadata": {
            "tags": []
          },
          "execution_count": 48
        }
      ]
    },
    {
      "cell_type": "code",
      "metadata": {
        "colab": {
          "base_uri": "https://localhost:8080/",
          "height": 282
        },
        "id": "AS8hCKy_kA3i",
        "outputId": "c561337c-8414-4b63-9f41-10ed447aae59"
      },
      "source": [
        "plt.scatter(targs, preds)"
      ],
      "execution_count": 49,
      "outputs": [
        {
          "output_type": "execute_result",
          "data": {
            "text/plain": [
              "<matplotlib.collections.PathCollection at 0x7f8b18e73290>"
            ]
          },
          "metadata": {
            "tags": []
          },
          "execution_count": 49
        },
        {
          "output_type": "display_data",
          "data": {
            "image/png": "[encoded data removed]",
            "text/plain": [
              "<Figure size 432x288 with 1 Axes>"
            ]
          },
          "metadata": {
            "tags": [],
            "needs_background": "light"
          }
        }
      ]
    },
    {
      "cell_type": "code",
      "metadata": {
        "colab": {
          "base_uri": "https://localhost:8080/",
          "height": 370
        },
        "id": "X1E-KkL3b-tw",
        "outputId": "3b72e609-f21a-428e-d0fb-bad650a1a246"
      },
      "source": [
        "plt.hist(preds.numpy()[:,0] - targs.numpy()[:,0], bins=30)"
      ],
      "execution_count": 50,
      "outputs": [
        {
          "output_type": "execute_result",
          "data": {
            "text/plain": [
              "(array([  4.,   0.,  13.,   3.,  12.,  18.,  18.,  25.,  36.,  46.,  78., 118., 199., 266., 434., 636., 727., 566., 405., 230., 146.,  55.,  29.,  20.,   5.,   4.,   0.,   1.,   3.,   2.]),\n",
              " array([-16.094227  , -15.073023  , -14.051818  , -13.030614  , -12.00941   , -10.988205  ,  -9.967001  ,  -8.945797  ,  -7.9245925 ,  -6.903388  ,  -5.8821836 ,  -4.8609796 ,  -3.839775  ,\n",
              "         -2.8185709 ,  -1.7973665 ,  -0.77616215,   0.24504216,   1.2662464 ,   2.2874508 ,   3.308655  ,   4.3298593 ,   5.3510637 ,   6.372268  ,   7.393472  ,   8.414677  ,   9.435881  ,\n",
              "         10.457086  ,  11.47829   ,  12.499494  ,  13.520699  ,  14.541903  ], dtype=float32),\n",
              " <a list of 30 Patch objects>)"
            ]
          },
          "metadata": {
            "tags": []
          },
          "execution_count": 50
        },
        {
          "output_type": "display_data",
          "data": {
            "image/png": "[encoded data removed]",
            "text/plain": [
              "<Figure size 432x288 with 1 Axes>"
            ]
          },
          "metadata": {
            "tags": [],
            "needs_background": "light"
          }
        }
      ]
    },
    {
      "cell_type": "code",
      "metadata": {
        "colab": {
          "base_uri": "https://localhost:8080/"
        },
        "id": "SuIMxyHHaB8p",
        "outputId": "dc47e7a6-dfc8-482f-aa87-19f27a569929"
      },
      "source": [
        "devchart_fd_learn.model"
      ],
      "execution_count": 51,
      "outputs": [
        {
          "output_type": "execute_result",
          "data": {
            "text/plain": [
              "TabularModel(\n",
              "  (embeds): ModuleList(\n",
              "    (0): Embedding(58, 16)\n",
              "    (1): Embedding(215, 32)\n",
              "    (2): Embedding(197, 31)\n",
              "    (3): Embedding(4, 3)\n",
              "  )\n",
              "  (emb_drop): Dropout(p=0.0, inplace=False)\n",
              "  (bn_cont): BatchNorm1d(2, eps=1e-05, momentum=0.1, affine=True, track_running_stats=True)\n",
              "  (layers): Sequential(\n",
              "    (0): LinBnDrop(\n",
              "      (0): BatchNorm1d(84, eps=1e-05, momentum=0.1, affine=True, track_running_stats=True)\n",
              "      (1): Linear(in_features=84, out_features=500, bias=False)\n",
              "      (2): ReLU(inplace=True)\n",
              "    )\n",
              "    (1): LinBnDrop(\n",
              "      (0): BatchNorm1d(500, eps=1e-05, momentum=0.1, affine=True, track_running_stats=True)\n",
              "      (1): Linear(in_features=500, out_features=250, bias=False)\n",
              "      (2): ReLU(inplace=True)\n",
              "    )\n",
              "    (2): LinBnDrop(\n",
              "      (0): Linear(in_features=250, out_features=1, bias=True)\n",
              "    )\n",
              "    (3): SigmoidRange(low=1, high=30)\n",
              "  )\n",
              ")"
            ]
          },
          "metadata": {
            "tags": []
          },
          "execution_count": 51
        }
      ]
    }
  ]
}